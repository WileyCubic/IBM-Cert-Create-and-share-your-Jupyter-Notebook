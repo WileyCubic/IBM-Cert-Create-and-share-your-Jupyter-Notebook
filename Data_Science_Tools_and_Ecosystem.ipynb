{
 "cells": [
  {
   "cell_type": "markdown",
   "id": "17fa743a",
   "metadata": {},
   "source": [
    "# Data Science Tools and Ecosystem "
   ]
  },
  {
   "cell_type": "markdown",
   "id": "7dc897d6",
   "metadata": {},
   "source": [
    "In this notebook, Data Science Tools and Ecosystem are summarized."
   ]
  },
  {
   "cell_type": "markdown",
   "id": "e7988a6e",
   "metadata": {},
   "source": [
    "**Objectives:**\n",
    "- List Popular Data Science Languages\n",
    "- Understand commonly used libraries\n",
    "- Learn Jupyter Notebook structure and tools\n",
    "- Proform basic arithmetic using a Jupyter Notebook"
   ]
  },
  {
   "cell_type": "markdown",
   "id": "7d9a619f",
   "metadata": {},
   "source": [
    "Some of the popular languages that Data Scientists use are:\n",
    "1. Python\n",
    "2. R\n",
    "3. SQL"
   ]
  },
  {
   "cell_type": "markdown",
   "id": "150f8573",
   "metadata": {},
   "source": [
    "Some of the commonly used libraries used by Data Scientist include:\n",
    "1. Numpy\n",
    "2. Pandas\n",
    "3. Matplotlib"
   ]
  },
  {
   "cell_type": "markdown",
   "id": "37dfc865",
   "metadata": {},
   "source": [
    "|Data Science Tools|\n",
    "|------------------|"
   ]
  },
  {
   "cell_type": "markdown",
   "id": "4f8519ae",
   "metadata": {},
   "source": [
    "### Below are a few examples of evaluating arithmetic expressions in Python"
   ]
  },
  {
   "cell_type": "code",
   "execution_count": null,
   "id": "add018df",
   "metadata": {},
   "outputs": [
    {
     "data": {
      "text/plain": [
       "17"
      ]
     },
     "execution_count": 5,
     "metadata": {},
     "output_type": "execute_result"
    }
   ],
   "source": [
    "# This a simple arithmetic expression to multiply then add integers.\n",
    "(3*4)+5"
   ]
  },
  {
   "cell_type": "code",
   "execution_count": null,
   "id": "09acbaa6",
   "metadata": {},
   "outputs": [
    {
     "name": "stdout",
     "output_type": "stream",
     "text": [
      "(200 minutes is 3.3333333333333335 hours)\n"
     ]
    }
   ],
   "source": [
    "# This will convert 200 minutes to hours by dividing by 60.\n",
    "\n",
    "minutes = 200\n",
    "\n",
    "def minutes_to_hours(minutes):\n",
    "    return minutes / 60 \n",
    "\n",
    "print(f'({minutes} minutes is {minutes_to_hours(minutes)} hours)')"
   ]
  },
  {
   "cell_type": "markdown",
   "id": "04870c85",
   "metadata": {},
   "source": [
    "## Author\n",
    "Wiley Cubic"
   ]
  }
 ],
 "metadata": {
  "kernelspec": {
   "display_name": "base",
   "language": "python",
   "name": "python3"
  },
  "language_info": {
   "codemirror_mode": {
    "name": "ipython",
    "version": 3
   },
   "file_extension": ".py",
   "mimetype": "text/x-python",
   "name": "python",
   "nbconvert_exporter": "python",
   "pygments_lexer": "ipython3",
   "version": "3.13.5"
  }
 },
 "nbformat": 4,
 "nbformat_minor": 5
}
